{
 "cells": [
  {
   "cell_type": "markdown",
   "id": "4e5518d1",
   "metadata": {},
   "source": [
    "# Exercise 0 Task 3"
   ]
  },
  {
   "cell_type": "code",
   "execution_count": null,
   "id": "85f86f5b",
   "metadata": {},
   "outputs": [],
   "source": [
    "import yaml"
   ]
  },
  {
   "cell_type": "code",
   "execution_count": null,
   "id": "8bb665ab",
   "metadata": {},
   "outputs": [],
   "source": [
    "with open(\"example_data.yaml\") as ex:\n",
    "    example = yaml.load(ex)"
   ]
  }
 ],
 "metadata": {
  "kernelspec": {
   "display_name": "Python 3 (ipykernel)",
   "language": "python",
   "name": "python3"
  },
  "language_info": {
   "codemirror_mode": {
    "name": "ipython",
    "version": 3
   },
   "file_extension": ".py",
   "mimetype": "text/x-python",
   "name": "python",
   "nbconvert_exporter": "python",
   "pygments_lexer": "ipython3",
   "version": "3.11.5"
  }
 },
 "nbformat": 4,
 "nbformat_minor": 5
}
