{
 "cells": [
  {
   "cell_type": "raw",
   "source": [
    "A matrix can be represented in Python by two nested lists.\n",
    "\n",
    "Write Python functions that do the following tasks.\n",
    "Provide an example for each task."
   ],
   "metadata": {
    "collapsed": false
   },
   "id": "24d78dd1d6839509"
  },
  {
   "cell_type": "code",
   "execution_count": 70,
   "outputs": [],
   "source": [
    "m1 = [[1, 2, 3],\n",
    "      [4, 5, 6],\n",
    "      [7, 8, 9]]\n",
    "m2 = [[1, 4, 7],\n",
    "      [2, 5, 8],\n",
    "      [3, 6, 9]]\n",
    "m3 = [[1, 0, 0],\n",
    "      [0, 1, 0],\n",
    "      [0, 0, 1]]"
   ],
   "metadata": {
    "collapsed": false,
    "ExecuteTime": {
     "end_time": "2023-12-04T09:27:22.400341Z",
     "start_time": "2023-12-04T09:27:22.385099Z"
    }
   },
   "id": "7f1ae621244759e3"
  },
  {
   "cell_type": "raw",
   "source": [
    "a) Transposing a 3x3 matrix"
   ],
   "metadata": {
    "collapsed": false
   },
   "id": "be63ef6b340e92f"
  },
  {
   "cell_type": "code",
   "execution_count": 71,
   "outputs": [],
   "source": [
    "def t(mat):\n",
    "    return [list(col) for col in zip(*mat)]\n",
    "\n",
    "\n",
    "assert (t(m1) == m2)\n",
    "assert (t(m2) == m1)\n",
    "assert (t(m3) == m3)"
   ],
   "metadata": {
    "collapsed": false,
    "ExecuteTime": {
     "end_time": "2023-12-04T09:27:22.401166Z",
     "start_time": "2023-12-04T09:27:22.390915Z"
    }
   },
   "id": "beb6481561b26d3e"
  },
  {
   "cell_type": "raw",
   "source": [
    "b) Calculating the determinant of a 3x3 matrix"
   ],
   "metadata": {
    "collapsed": false
   },
   "id": "f0887a5047a09a65"
  },
  {
   "cell_type": "code",
   "execution_count": 72,
   "outputs": [],
   "source": [
    "def det(mat):\n",
    "    if len(mat) == 2: return mat[0][0] * mat[1][1] - mat[0][1] * mat[1][0]\n",
    "\n",
    "    d = 0\n",
    "    for i, val in enumerate(mat[0]):\n",
    "        minor = [row[:i] + row[i + 1:] for row in mat[1:]]\n",
    "        x = (-1 if i % 2 else 1) * val * det(minor)\n",
    "        d += x\n",
    "\n",
    "    return d\n",
    "\n",
    "\n",
    "assert (det(m1) == 0)\n",
    "assert (det(m2) == 0)\n",
    "assert (det(m3) == 1)"
   ],
   "metadata": {
    "collapsed": false,
    "ExecuteTime": {
     "end_time": "2023-12-04T09:27:22.401332Z",
     "start_time": "2023-12-04T09:27:22.396196Z"
    }
   },
   "id": "dd1d04127e418367"
  },
  {
   "cell_type": "raw",
   "source": [
    "c) Multiplying two 3x3 matrices"
   ],
   "metadata": {
    "collapsed": false
   },
   "id": "ec79e0c4c3efab6b"
  },
  {
   "cell_type": "code",
   "execution_count": 73,
   "outputs": [],
   "source": [
    "def mul(mat1, mat2):\n",
    "    mat = [[0 for _ in mat2[0]] for _ in mat1]\n",
    "    mat2 = t(mat2)\n",
    "\n",
    "    for i, ri in enumerate(mat1):\n",
    "        for j, cj in enumerate(mat2):\n",
    "            for m1ij, m2ji in zip(ri, cj):\n",
    "                mat[i][j] += m1ij * m2ji\n",
    "\n",
    "    return mat\n",
    "\n",
    "\n",
    "assert (mul(m1, m2) == [[14, 32, 50], [32, 77, 122], [50, 122, 194]])\n",
    "assert (mul(m1, m3) == m1)\n",
    "assert (mul(m2, m3) == m2)"
   ],
   "metadata": {
    "collapsed": false,
    "ExecuteTime": {
     "end_time": "2023-12-04T09:27:22.407Z",
     "start_time": "2023-12-04T09:27:22.400936Z"
    }
   },
   "id": "beeae2a59f00d5f"
  },
  {
   "cell_type": "code",
   "execution_count": 75,
   "outputs": [],
   "source": [
    "m4 = m1 + [[10, 11, 12]]\n",
    "m5 = [range(i * 4 + 1, (i + 1) * 4 + 1) for i in range(3)]\n",
    "\n",
    "import numpy as np\n",
    "assert np.array_equal(mul(m4, m5), np.dot(m4, m5))"
   ],
   "metadata": {
    "collapsed": false,
    "ExecuteTime": {
     "end_time": "2023-12-04T09:27:43.272518Z",
     "start_time": "2023-12-04T09:27:43.267498Z"
    }
   },
   "id": "cf859b02e4ade88e"
  }
 ],
 "metadata": {
  "kernelspec": {
   "display_name": "Python 3",
   "language": "python",
   "name": "python3"
  },
  "language_info": {
   "codemirror_mode": {
    "name": "ipython",
    "version": 2
   },
   "file_extension": ".py",
   "mimetype": "text/x-python",
   "name": "python",
   "nbconvert_exporter": "python",
   "pygments_lexer": "ipython2",
   "version": "2.7.6"
  }
 },
 "nbformat": 4,
 "nbformat_minor": 5
}
