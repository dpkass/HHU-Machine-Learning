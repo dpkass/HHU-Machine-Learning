{
 "cells": [
  {
   "cell_type": "raw",
   "source": [
    "Task 1. Principal Component Analysis (PCA) (5 Points)\n",
    "\n",
    "Implement a principal component analysis using only the Python package Numpy and (optionally) Pandas. Specify scores (position), loadings (rotation), and explained variance. Plot the results appropriately (you may use the Matplotlib package). Use the dataset dat.csv."
   ],
   "metadata": {
    "collapsed": false
   },
   "id": "84df87392040f88b"
  },
  {
   "cell_type": "code",
   "execution_count": 48,
   "outputs": [],
   "source": [
    "import numpy as np\n",
    "import pandas as pd"
   ],
   "metadata": {
    "collapsed": false,
    "ExecuteTime": {
     "end_time": "2023-12-07T08:18:11.711019Z",
     "start_time": "2023-12-07T08:18:11.696009Z"
    }
   },
   "id": "798cf62173af6268"
  },
  {
   "cell_type": "code",
   "execution_count": 49,
   "outputs": [
    {
     "data": {
      "text/plain": "    x1   x2\n0  1.1  6.5\n1  2.1  6.5\n2  2.1  5.5\n3  1.1  4.5\n4  2.1  3.5\n5 -0.9 -2.5\n6 -1.9 -4.5\n7 -0.9 -5.5\n8 -2.9 -6.5\n9 -1.9 -7.5",
      "text/html": "<div>\n<style scoped>\n    .dataframe tbody tr th:only-of-type {\n        vertical-align: middle;\n    }\n\n    .dataframe tbody tr th {\n        vertical-align: top;\n    }\n\n    .dataframe thead th {\n        text-align: right;\n    }\n</style>\n<table border=\"1\" class=\"dataframe\">\n  <thead>\n    <tr style=\"text-align: right;\">\n      <th></th>\n      <th>x1</th>\n      <th>x2</th>\n    </tr>\n  </thead>\n  <tbody>\n    <tr>\n      <th>0</th>\n      <td>1.1</td>\n      <td>6.5</td>\n    </tr>\n    <tr>\n      <th>1</th>\n      <td>2.1</td>\n      <td>6.5</td>\n    </tr>\n    <tr>\n      <th>2</th>\n      <td>2.1</td>\n      <td>5.5</td>\n    </tr>\n    <tr>\n      <th>3</th>\n      <td>1.1</td>\n      <td>4.5</td>\n    </tr>\n    <tr>\n      <th>4</th>\n      <td>2.1</td>\n      <td>3.5</td>\n    </tr>\n    <tr>\n      <th>5</th>\n      <td>-0.9</td>\n      <td>-2.5</td>\n    </tr>\n    <tr>\n      <th>6</th>\n      <td>-1.9</td>\n      <td>-4.5</td>\n    </tr>\n    <tr>\n      <th>7</th>\n      <td>-0.9</td>\n      <td>-5.5</td>\n    </tr>\n    <tr>\n      <th>8</th>\n      <td>-2.9</td>\n      <td>-6.5</td>\n    </tr>\n    <tr>\n      <th>9</th>\n      <td>-1.9</td>\n      <td>-7.5</td>\n    </tr>\n  </tbody>\n</table>\n</div>"
     },
     "execution_count": 49,
     "metadata": {},
     "output_type": "execute_result"
    }
   ],
   "source": [
    "data = pd.read_csv('data/dat.csv', usecols=[1, 2])\n",
    "\n",
    "data"
   ],
   "metadata": {
    "collapsed": false,
    "ExecuteTime": {
     "end_time": "2023-12-07T08:18:11.712665Z",
     "start_time": "2023-12-07T08:18:11.700886Z"
    }
   },
   "id": "f508064d0bce78a4"
  },
  {
   "cell_type": "raw",
   "source": [
    "Step 1 - Standardization"
   ],
   "metadata": {
    "collapsed": false
   },
   "id": "98b999a40ea4910e"
  },
  {
   "cell_type": "code",
   "execution_count": 50,
   "outputs": [
    {
     "data": {
      "text/plain": "         x1        x2\n0  0.606450  1.181818\n1  1.157767  1.181818\n2  1.157767  1.000000\n3  0.606450  0.818182\n4  1.157767  0.636364\n5 -0.496186 -0.454545\n6 -1.047504 -0.818182\n7 -0.496186 -1.000000\n8 -1.598822 -1.181818\n9 -1.047504 -1.363636",
      "text/html": "<div>\n<style scoped>\n    .dataframe tbody tr th:only-of-type {\n        vertical-align: middle;\n    }\n\n    .dataframe tbody tr th {\n        vertical-align: top;\n    }\n\n    .dataframe thead th {\n        text-align: right;\n    }\n</style>\n<table border=\"1\" class=\"dataframe\">\n  <thead>\n    <tr style=\"text-align: right;\">\n      <th></th>\n      <th>x1</th>\n      <th>x2</th>\n    </tr>\n  </thead>\n  <tbody>\n    <tr>\n      <th>0</th>\n      <td>0.606450</td>\n      <td>1.181818</td>\n    </tr>\n    <tr>\n      <th>1</th>\n      <td>1.157767</td>\n      <td>1.181818</td>\n    </tr>\n    <tr>\n      <th>2</th>\n      <td>1.157767</td>\n      <td>1.000000</td>\n    </tr>\n    <tr>\n      <th>3</th>\n      <td>0.606450</td>\n      <td>0.818182</td>\n    </tr>\n    <tr>\n      <th>4</th>\n      <td>1.157767</td>\n      <td>0.636364</td>\n    </tr>\n    <tr>\n      <th>5</th>\n      <td>-0.496186</td>\n      <td>-0.454545</td>\n    </tr>\n    <tr>\n      <th>6</th>\n      <td>-1.047504</td>\n      <td>-0.818182</td>\n    </tr>\n    <tr>\n      <th>7</th>\n      <td>-0.496186</td>\n      <td>-1.000000</td>\n    </tr>\n    <tr>\n      <th>8</th>\n      <td>-1.598822</td>\n      <td>-1.181818</td>\n    </tr>\n    <tr>\n      <th>9</th>\n      <td>-1.047504</td>\n      <td>-1.363636</td>\n    </tr>\n  </tbody>\n</table>\n</div>"
     },
     "execution_count": 50,
     "metadata": {},
     "output_type": "execute_result"
    }
   ],
   "source": [
    "data = data.apply(lambda col: (col - np.mean(col)) / np.std(col))\n",
    "\n",
    "data"
   ],
   "metadata": {
    "collapsed": false,
    "ExecuteTime": {
     "end_time": "2023-12-07T08:18:11.738672Z",
     "start_time": "2023-12-07T08:18:11.713154Z"
    }
   },
   "id": "233f9d5ad6515406"
  },
  {
   "cell_type": "raw",
   "source": [
    "Step 2 - Covariace Matrix"
   ],
   "metadata": {
    "collapsed": false
   },
   "id": "1f63a25cf8570f41"
  },
  {
   "cell_type": "code",
   "execution_count": 51,
   "outputs": [
    {
     "data": {
      "text/plain": "array([[1.11111111, 1.04137815],\n       [1.04137815, 1.11111111]])"
     },
     "execution_count": 51,
     "metadata": {},
     "output_type": "execute_result"
    }
   ],
   "source": [
    "Cov = np.cov(data.T)\n",
    "\n",
    "Cov"
   ],
   "metadata": {
    "collapsed": false,
    "ExecuteTime": {
     "end_time": "2023-12-07T08:18:11.739197Z",
     "start_time": "2023-12-07T08:18:11.717516Z"
    }
   },
   "id": "1b2753e0dcf26f8b"
  },
  {
   "cell_type": "raw",
   "source": [
    "Step 3 - Eigenvectors & Eigenvalues of Cov"
   ],
   "metadata": {
    "collapsed": false
   },
   "id": "c58b8354398e65c5"
  },
  {
   "cell_type": "code",
   "execution_count": 52,
   "outputs": [
    {
     "data": {
      "text/plain": "[(2.1524892654599452, array([ 0.70710678, -0.70710678])),\n (0.0697329567622762, array([-0.70710678, -0.70710678]))]"
     },
     "execution_count": 52,
     "metadata": {},
     "output_type": "execute_result"
    }
   ],
   "source": [
    "eval, evec = np.linalg.eig(Cov)\n",
    "\n",
    "ev = list(zip(eval, evec))\n",
    "ev = sorted(ev, key=lambda x: x[0], reverse=True)\n",
    "\n",
    "eval, evec = zip(*ev)\n",
    "\n",
    "ev"
   ],
   "metadata": {
    "collapsed": false,
    "ExecuteTime": {
     "end_time": "2023-12-07T08:18:11.769651Z",
     "start_time": "2023-12-07T08:18:11.724046Z"
    }
   },
   "id": "36127eeff2e241d3"
  },
  {
   "cell_type": "raw",
   "source": [
    "Second value is insignificant (very small eig-val)"
   ],
   "metadata": {
    "collapsed": false
   },
   "id": "78b2b0a4954700b0"
  },
  {
   "cell_type": "raw",
   "source": [
    "Step 3.1 - Explained Variance"
   ],
   "metadata": {
    "collapsed": false
   },
   "id": "db16d6ff167d5b71"
  },
  {
   "cell_type": "code",
   "execution_count": 53,
   "outputs": [
    {
     "data": {
      "text/plain": "(          0         1\n 0 -0.406847 -1.264496\n 1 -0.017006 -1.654337\n 2  0.111558 -1.525772\n 3 -0.149717 -1.007367\n 4  0.368688 -1.268642\n 5 -0.029444  0.672269\n 6 -0.162155  1.319239\n 7  0.356250  1.057963\n 8 -0.294866  1.966209\n 9  0.223539  1.704934,\n array([0.96862017, 0.03137983]))"
     },
     "execution_count": 53,
     "metadata": {},
     "output_type": "execute_result"
    }
   ],
   "source": [
    "scores = data @ evec\n",
    "explained_variance = eval / np.sum(eval)\n",
    "\n",
    "scores, explained_variance"
   ],
   "metadata": {
    "collapsed": false,
    "ExecuteTime": {
     "end_time": "2023-12-07T08:18:11.769967Z",
     "start_time": "2023-12-07T08:18:11.726936Z"
    }
   },
   "id": "8599f7e0f163a930"
  },
  {
   "cell_type": "raw",
   "source": [
    "Step 4 - Plot results"
   ],
   "metadata": {
    "collapsed": false
   },
   "id": "821b1a13748b458b"
  },
  {
   "cell_type": "code",
   "execution_count": 54,
   "outputs": [],
   "source": [
    "import matplotlib.pyplot as plt"
   ],
   "metadata": {
    "collapsed": false,
    "ExecuteTime": {
     "end_time": "2023-12-07T08:18:11.770042Z",
     "start_time": "2023-12-07T08:18:11.732957Z"
    }
   },
   "id": "604734065511f212"
  },
  {
   "cell_type": "code",
   "execution_count": 55,
   "outputs": [
    {
     "data": {
      "text/plain": "<Figure size 640x480 with 1 Axes>",
      "image/png": "[encoded data removed]"
     },
     "metadata": {},
     "output_type": "display_data"
    }
   ],
   "source": [
    "plt.title('PCA Scores')\n",
    "plt.xlabel('PC1')\n",
    "plt.ylabel('PC2')\n",
    "plt.grid(True)\n",
    "\n",
    "plt.scatter(scores.iloc[:, 0], scores.iloc[:, 1])\n",
    "plt.show()"
   ],
   "metadata": {
    "collapsed": false,
    "ExecuteTime": {
     "end_time": "2023-12-07T08:18:11.847699Z",
     "start_time": "2023-12-07T08:18:11.745660Z"
    }
   },
   "id": "f132622b0d02ed35"
  },
  {
   "cell_type": "code",
   "execution_count": 70,
   "outputs": [
    {
     "data": {
      "text/plain": "<Figure size 640x480 with 1 Axes>",
      "image/png": "[encoded data removed]"
     },
     "metadata": {},
     "output_type": "display_data"
    }
   ],
   "source": [
    "plt.title('PCA Explained Variance')\n",
    "plt.xlabel('PCs')\n",
    "plt.ylabel('Explained Variance')\n",
    "plt.xticks(range(1, len(data.columns) + 1))\n",
    "\n",
    "plt.bar(range(1, len(data.columns) + 1), explained_variance)\n",
    "plt.show()"
   ],
   "metadata": {
    "collapsed": false,
    "ExecuteTime": {
     "end_time": "2023-12-07T08:25:27.947226Z",
     "start_time": "2023-12-07T08:25:27.883276Z"
    }
   },
   "id": "2151fc6b54379e35"
  }
 ],
 "metadata": {
  "kernelspec": {
   "display_name": "Python 3",
   "language": "python",
   "name": "python3"
  },
  "language_info": {
   "codemirror_mode": {
    "name": "ipython",
    "version": 2
   },
   "file_extension": ".py",
   "mimetype": "text/x-python",
   "name": "python",
   "nbconvert_exporter": "python",
   "pygments_lexer": "ipython2",
   "version": "2.7.6"
  }
 },
 "nbformat": 4,
 "nbformat_minor": 5
}
