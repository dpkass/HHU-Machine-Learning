{
 "cells": [
  {
   "cell_type": "raw",
   "source": [
    "Task 1. Regression (5 points)\n",
    "\n",
    "\n",
    "Use the Wilt dataset for this task. A description is available at: https://archive.ics.uci.edu/ml/datasets/Wilt. The data set is divided into a training data set and a test data set. Use the DataFrame from pandas as the data structure.\n"
   ],
   "metadata": {
    "collapsed": false
   },
   "id": "1bf666cf6eb07d91"
  },
  {
   "cell_type": "code",
   "execution_count": 1,
   "outputs": [],
   "source": [
    "import pandas as pd"
   ],
   "metadata": {
    "collapsed": false,
    "ExecuteTime": {
     "end_time": "2023-12-10T11:21:23.659721Z",
     "start_time": "2023-12-10T11:21:23.324325Z"
    }
   },
   "id": "8434700447ef2b5"
  },
  {
   "cell_type": "code",
   "execution_count": 2,
   "outputs": [
    {
     "data": {
      "text/plain": "     class    GLCM_pan  Mean_Green    Mean_Red    Mean_NIR     SD_pan\n0        w  120.362774  205.500000  119.395349  416.581395  20.676318\n1        w  124.739583  202.800000  115.333333  354.333333  16.707151\n2        w  134.691964  199.285714  116.857143  477.857143  22.496712\n3        w  127.946309  178.368421   92.368421  278.473684  14.977453\n4        w  135.431548  197.000000  112.690476  532.952381  17.604193\n...    ...         ...         ...         ...         ...        ...\n4334     n  111.568773  203.588235   93.264706  403.735294  26.512777\n4335     n  125.435240  206.394161   93.058394  512.270073  33.466060\n4336     n  132.123859  465.343750  295.333333  499.250000  38.762967\n4337     n  124.469536  215.152632   98.484211  675.915789  28.506542\n4338     n  125.171928  559.048000  365.968000  439.272000  15.392322\n\n[4339 rows x 6 columns]",
      "text/html": "<div>\n<style scoped>\n    .dataframe tbody tr th:only-of-type {\n        vertical-align: middle;\n    }\n\n    .dataframe tbody tr th {\n        vertical-align: top;\n    }\n\n    .dataframe thead th {\n        text-align: right;\n    }\n</style>\n<table border=\"1\" class=\"dataframe\">\n  <thead>\n    <tr style=\"text-align: right;\">\n      <th></th>\n      <th>class</th>\n      <th>GLCM_pan</th>\n      <th>Mean_Green</th>\n      <th>Mean_Red</th>\n      <th>Mean_NIR</th>\n      <th>SD_pan</th>\n    </tr>\n  </thead>\n  <tbody>\n    <tr>\n      <th>0</th>\n      <td>w</td>\n      <td>120.362774</td>\n      <td>205.500000</td>\n      <td>119.395349</td>\n      <td>416.581395</td>\n      <td>20.676318</td>\n    </tr>\n    <tr>\n      <th>1</th>\n      <td>w</td>\n      <td>124.739583</td>\n      <td>202.800000</td>\n      <td>115.333333</td>\n      <td>354.333333</td>\n      <td>16.707151</td>\n    </tr>\n    <tr>\n      <th>2</th>\n      <td>w</td>\n      <td>134.691964</td>\n      <td>199.285714</td>\n      <td>116.857143</td>\n      <td>477.857143</td>\n      <td>22.496712</td>\n    </tr>\n    <tr>\n      <th>3</th>\n      <td>w</td>\n      <td>127.946309</td>\n      <td>178.368421</td>\n      <td>92.368421</td>\n      <td>278.473684</td>\n      <td>14.977453</td>\n    </tr>\n    <tr>\n      <th>4</th>\n      <td>w</td>\n      <td>135.431548</td>\n      <td>197.000000</td>\n      <td>112.690476</td>\n      <td>532.952381</td>\n      <td>17.604193</td>\n    </tr>\n    <tr>\n      <th>...</th>\n      <td>...</td>\n      <td>...</td>\n      <td>...</td>\n      <td>...</td>\n      <td>...</td>\n      <td>...</td>\n    </tr>\n    <tr>\n      <th>4334</th>\n      <td>n</td>\n      <td>111.568773</td>\n      <td>203.588235</td>\n      <td>93.264706</td>\n      <td>403.735294</td>\n      <td>26.512777</td>\n    </tr>\n    <tr>\n      <th>4335</th>\n      <td>n</td>\n      <td>125.435240</td>\n      <td>206.394161</td>\n      <td>93.058394</td>\n      <td>512.270073</td>\n      <td>33.466060</td>\n    </tr>\n    <tr>\n      <th>4336</th>\n      <td>n</td>\n      <td>132.123859</td>\n      <td>465.343750</td>\n      <td>295.333333</td>\n      <td>499.250000</td>\n      <td>38.762967</td>\n    </tr>\n    <tr>\n      <th>4337</th>\n      <td>n</td>\n      <td>124.469536</td>\n      <td>215.152632</td>\n      <td>98.484211</td>\n      <td>675.915789</td>\n      <td>28.506542</td>\n    </tr>\n    <tr>\n      <th>4338</th>\n      <td>n</td>\n      <td>125.171928</td>\n      <td>559.048000</td>\n      <td>365.968000</td>\n      <td>439.272000</td>\n      <td>15.392322</td>\n    </tr>\n  </tbody>\n</table>\n<p>4339 rows × 6 columns</p>\n</div>"
     },
     "execution_count": 2,
     "metadata": {},
     "output_type": "execute_result"
    }
   ],
   "source": [
    "train_data = pd.read_csv('data/wilt/training.csv')\n",
    "test_data = pd.read_csv('data/wilt/testing.csv')\n",
    "\n",
    "train_data"
   ],
   "metadata": {
    "collapsed": false,
    "ExecuteTime": {
     "end_time": "2023-12-10T11:21:23.676137Z",
     "start_time": "2023-12-10T11:21:23.660827Z"
    }
   },
   "id": "86e0489670c32aaf"
  },
  {
   "cell_type": "raw",
   "source": [
    "a) Learn a function via regression that can determine (i) the attribute SD Pan using the other numeric attributes. Use the training data to do this. (2 points)"
   ],
   "metadata": {
    "collapsed": false
   },
   "id": "31c35b9ccbdad30a"
  },
  {
   "cell_type": "code",
   "execution_count": 3,
   "outputs": [],
   "source": [
    "import matplotlib.pyplot as plt\n",
    "from sklearn.linear_model import LinearRegression\n",
    "from sklearn.metrics import mean_absolute_percentage_error as mape"
   ],
   "metadata": {
    "collapsed": false,
    "ExecuteTime": {
     "end_time": "2023-12-10T11:21:24.413343Z",
     "start_time": "2023-12-10T11:21:23.673922Z"
    }
   },
   "id": "af8f0b500c24bdc7"
  },
  {
   "cell_type": "raw",
   "source": [
    "We now have to decide between dropping or transforming (OHE or enum) the variable 'class'. It seems we only have very few instances with class 'w' so I decided to drop it."
   ],
   "metadata": {
    "collapsed": false
   },
   "id": "5a15c14a6a3b8edf"
  },
  {
   "cell_type": "code",
   "execution_count": 4,
   "outputs": [],
   "source": [
    "x = ['GLCM_pan', 'Mean_Green', 'Mean_Red', 'Mean_NIR']\n",
    "y = 'SD_pan'\n",
    "\n",
    "x_train = train_data[x]\n",
    "y_train = train_data[y]\n",
    "\n",
    "x_test = test_data[x]\n",
    "y_test = test_data[y]"
   ],
   "metadata": {
    "collapsed": false,
    "ExecuteTime": {
     "end_time": "2023-12-10T11:21:24.417982Z",
     "start_time": "2023-12-10T11:21:24.414677Z"
    }
   },
   "id": "1bca1edb9241c25c"
  },
  {
   "cell_type": "code",
   "execution_count": 5,
   "outputs": [
    {
     "data": {
      "text/plain": "239776278975779.44"
     },
     "execution_count": 5,
     "metadata": {},
     "output_type": "execute_result"
    }
   ],
   "source": [
    "lr = LinearRegression()\n",
    "lr.fit(x_train, y_train.ravel())\n",
    "\n",
    "train_pred = lr.predict(x_train)\n",
    "\n",
    "mape(y_train, train_pred)"
   ],
   "metadata": {
    "collapsed": false,
    "ExecuteTime": {
     "end_time": "2023-12-10T11:21:24.489574Z",
     "start_time": "2023-12-10T11:21:24.420826Z"
    }
   },
   "id": "4ba564fdf81cc0b2"
  },
  {
   "cell_type": "raw",
   "source": [
    "Division by 0 is causing that. I should take out 0 values, if I were interested in that."
   ],
   "metadata": {
    "collapsed": false
   },
   "id": "158fb4f84523e50e"
  },
  {
   "cell_type": "code",
   "execution_count": 6,
   "outputs": [
    {
     "data": {
      "text/plain": "0.38069644247055995"
     },
     "execution_count": 6,
     "metadata": {},
     "output_type": "execute_result"
    }
   ],
   "source": [
    "test_pred = lr.predict(x_test)\n",
    "\n",
    "mape(y_test, test_pred)"
   ],
   "metadata": {
    "collapsed": false,
    "ExecuteTime": {
     "end_time": "2023-12-10T11:21:24.602490Z",
     "start_time": "2023-12-10T11:21:24.454702Z"
    }
   },
   "id": "a4e7bff0d2322499"
  },
  {
   "cell_type": "raw",
   "source": [
    "We have an avg error of 38.07%"
   ],
   "metadata": {
    "collapsed": false
   },
   "id": "5f0536c76cfc47db"
  },
  {
   "cell_type": "raw",
   "source": [
    "b) Learn a function that predicts the attribute Mean Red based on the attribute Mean Green. Create a scatterplot that maps Mean Green to Mean Red and add the regression function (line plot) to it. (3 points)"
   ],
   "metadata": {
    "collapsed": false
   },
   "id": "d2b169ab8478adf9"
  },
  {
   "cell_type": "code",
   "execution_count": 7,
   "outputs": [],
   "source": [
    "x = 'Mean_Green'\n",
    "y = 'Mean_Red'\n",
    "\n",
    "x_train = train_data[x].to_numpy().reshape((-1, 1))\n",
    "y_train = train_data[y].to_numpy().reshape((-1, 1))\n",
    "\n",
    "x_test = test_data[x].to_numpy().reshape((-1, 1))\n",
    "y_test = test_data[y].to_numpy().reshape((-1, 1))"
   ],
   "metadata": {
    "collapsed": false,
    "ExecuteTime": {
     "end_time": "2023-12-10T11:21:24.617852Z",
     "start_time": "2023-12-10T11:21:24.570962Z"
    }
   },
   "id": "577d2d542ef291b7"
  },
  {
   "cell_type": "code",
   "execution_count": 8,
   "outputs": [
    {
     "data": {
      "text/plain": "0.07601200681747422"
     },
     "execution_count": 8,
     "metadata": {},
     "output_type": "execute_result"
    }
   ],
   "source": [
    "lr = LinearRegression()\n",
    "lr.fit(x_train, y_train)\n",
    "\n",
    "train_pred = lr.predict(x_train)\n",
    "\n",
    "mape(y_train, train_pred)"
   ],
   "metadata": {
    "collapsed": false,
    "ExecuteTime": {
     "end_time": "2023-12-10T11:21:24.618137Z",
     "start_time": "2023-12-10T11:21:24.577548Z"
    }
   },
   "id": "f2bc17c27f446906"
  },
  {
   "cell_type": "code",
   "execution_count": 9,
   "outputs": [
    {
     "data": {
      "text/plain": "0.1519586403762143"
     },
     "execution_count": 9,
     "metadata": {},
     "output_type": "execute_result"
    }
   ],
   "source": [
    "test_pred = lr.predict(x_test)\n",
    "\n",
    "mape(y_test, test_pred)"
   ],
   "metadata": {
    "collapsed": false,
    "ExecuteTime": {
     "end_time": "2023-12-10T11:21:24.618208Z",
     "start_time": "2023-12-10T11:21:24.586060Z"
    }
   },
   "id": "a18863621dc6e5f8"
  },
  {
   "cell_type": "raw",
   "source": [
    "Here we have an avg error of 15.20%, which is much better than before."
   ],
   "metadata": {
    "collapsed": false
   },
   "id": "23fce07ac33f3b2a"
  },
  {
   "cell_type": "code",
   "execution_count": 10,
   "outputs": [
    {
     "data": {
      "text/plain": "<Figure size 640x480 with 1 Axes>",
      "image/png": "[encoded data removed]"
     },
     "metadata": {},
     "output_type": "display_data"
    }
   ],
   "source": [
    "plt.title('Mean Green vs Mean Red with Regression Line')\n",
    "plt.xlabel('Mean Green')\n",
    "plt.ylabel('Mean Red')\n",
    "\n",
    "plt.scatter(x_train, y_train, color='blue', label='Training data')\n",
    "plt.plot(x_train, train_pred, color='red', label='Regression line')\n",
    "\n",
    "plt.legend()\n",
    "\n",
    "plt.show()"
   ],
   "metadata": {
    "collapsed": false,
    "ExecuteTime": {
     "end_time": "2023-12-10T11:21:24.753637Z",
     "start_time": "2023-12-10T11:21:24.593236Z"
    }
   },
   "id": "757852861ec786e9"
  }
 ],
 "metadata": {
  "kernelspec": {
   "display_name": "Python 3",
   "language": "python",
   "name": "python3"
  },
  "language_info": {
   "codemirror_mode": {
    "name": "ipython",
    "version": 2
   },
   "file_extension": ".py",
   "mimetype": "text/x-python",
   "name": "python",
   "nbconvert_exporter": "python",
   "pygments_lexer": "ipython2",
   "version": "2.7.6"
  }
 },
 "nbformat": 4,
 "nbformat_minor": 5
}
