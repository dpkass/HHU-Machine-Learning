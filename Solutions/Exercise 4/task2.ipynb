{
 "cells": [
  {
   "cell_type": "raw",
   "source": [
    "Task 2. Clustering (5 points)"
   ],
   "metadata": {
    "collapsed": false
   },
   "id": "601c8c4b6fe0258d"
  },
  {
   "cell_type": "raw",
   "source": [
    "a) Compute a Hierarchical Clustering from the distance matrix (distancematrix.csv) using the Average Linkage method. Draw the corresponding dendrogram (either in Python or by hand). (2 P.)"
   ],
   "metadata": {
    "collapsed": false
   },
   "id": "a9db1a03190a0ed3"
  },
  {
   "cell_type": "code",
   "execution_count": 16,
   "outputs": [],
   "source": [
    "import pandas as pd\n",
    "import numpy as np\n",
    "from itertools import combinations"
   ],
   "metadata": {
    "collapsed": false,
    "ExecuteTime": {
     "end_time": "2023-12-08T19:12:56.074162Z",
     "start_time": "2023-12-08T19:12:56.062022Z"
    }
   },
   "id": "77d8b83a3f6919a7"
  },
  {
   "cell_type": "code",
   "execution_count": 44,
   "outputs": [
    {
     "data": {
      "text/plain": "       A      B      C      D\nA  0.000  4.438  3.048  2.259\nB  4.438  0.000  6.777  2.887\nC  3.048  6.777  0.000  4.339\nD  2.259  2.887  4.339  0.000",
      "text/html": "<div>\n<style scoped>\n    .dataframe tbody tr th:only-of-type {\n        vertical-align: middle;\n    }\n\n    .dataframe tbody tr th {\n        vertical-align: top;\n    }\n\n    .dataframe thead th {\n        text-align: right;\n    }\n</style>\n<table border=\"1\" class=\"dataframe\">\n  <thead>\n    <tr style=\"text-align: right;\">\n      <th></th>\n      <th>A</th>\n      <th>B</th>\n      <th>C</th>\n      <th>D</th>\n    </tr>\n  </thead>\n  <tbody>\n    <tr>\n      <th>A</th>\n      <td>0.000</td>\n      <td>4.438</td>\n      <td>3.048</td>\n      <td>2.259</td>\n    </tr>\n    <tr>\n      <th>B</th>\n      <td>4.438</td>\n      <td>0.000</td>\n      <td>6.777</td>\n      <td>2.887</td>\n    </tr>\n    <tr>\n      <th>C</th>\n      <td>3.048</td>\n      <td>6.777</td>\n      <td>0.000</td>\n      <td>4.339</td>\n    </tr>\n    <tr>\n      <th>D</th>\n      <td>2.259</td>\n      <td>2.887</td>\n      <td>4.339</td>\n      <td>0.000</td>\n    </tr>\n  </tbody>\n</table>\n</div>"
     },
     "execution_count": 44,
     "metadata": {},
     "output_type": "execute_result"
    }
   ],
   "source": [
    "data = pd.read_csv('data/distancematrix.csv', sep=';', index_col=0)\n",
    "\n",
    "for i in range(len(data)):\n",
    "    for j in range(i + 1, len(data)):\n",
    "        data.iloc[i, j] = data.iloc[j, i]\n",
    "\n",
    "data"
   ],
   "metadata": {
    "collapsed": false,
    "ExecuteTime": {
     "end_time": "2023-12-08T19:23:58.931356Z",
     "start_time": "2023-12-08T19:23:58.911151Z"
    }
   },
   "id": "d5dc97818a3090ac"
  },
  {
   "cell_type": "code",
   "execution_count": 57,
   "outputs": [],
   "source": [
    "# distance between 2 clusters\n",
    "def d(data, c1, c2): return sum(data.loc[p1, p2] for p1 in c1 for p2 in c2) / len(c1) / len(c2)"
   ],
   "metadata": {
    "collapsed": false,
    "ExecuteTime": {
     "end_time": "2023-12-08T19:46:58.310063Z",
     "start_time": "2023-12-08T19:46:58.300842Z"
    }
   },
   "id": "c07c822937432ce9"
  },
  {
   "cell_type": "code",
   "execution_count": 79,
   "outputs": [],
   "source": [
    "def closest_clusters(data, clusters):\n",
    "    smallest = clusters[0], clusters[1]\n",
    "    smallest_dist = d(data, clusters[0], clusters[1])\n",
    "\n",
    "    for c1, c2 in combinations(clusters, 2):\n",
    "        # since we add only one value per iteration, we could technically speed this up by calculating the average and keeping the cluster as is\n",
    "        # but this is much simpler than having complex df manipulations (need to merge cols and rows and their indexes)\n",
    "        dist = d(data, c1, c2)\n",
    "        if dist < smallest_dist:\n",
    "            smallest = c1, c2\n",
    "            smallest_dist = dist\n",
    "\n",
    "    return smallest"
   ],
   "metadata": {
    "collapsed": false,
    "ExecuteTime": {
     "end_time": "2023-12-08T19:57:11.517978Z",
     "start_time": "2023-12-08T19:57:11.514254Z"
    }
   },
   "id": "19b6fbb2e8573a6b"
  },
  {
   "cell_type": "code",
   "execution_count": 96,
   "outputs": [],
   "source": [
    "def avg_linkage_hierarchical_clustering(data):\n",
    "    '''works only for single letter identifiers'''\n",
    "    clusters = list(data.columns)\n",
    "    merges = [clusters.copy()]\n",
    "\n",
    "    for _ in range(len(data) - 1):\n",
    "        c1, c2 = closest_clusters(data, clusters)\n",
    "        \n",
    "        clusters.remove(c1)\n",
    "        clusters.remove(c2)\n",
    "        clusters.append(c1 + c2)\n",
    "        \n",
    "        merges.append(clusters.copy())\n",
    "\n",
    "    return merges"
   ],
   "metadata": {
    "collapsed": false,
    "ExecuteTime": {
     "end_time": "2023-12-08T20:03:51.596374Z",
     "start_time": "2023-12-08T20:03:51.592990Z"
    }
   },
   "id": "8ba6fce9a4280550"
  },
  {
   "cell_type": "code",
   "execution_count": 99,
   "outputs": [
    {
     "data": {
      "text/plain": "[['A', 'B', 'C', 'D'], ['B', 'C', 'AD'], ['C', 'BAD'], ['CBAD']]"
     },
     "execution_count": 99,
     "metadata": {},
     "output_type": "execute_result"
    }
   ],
   "source": [
    "avg_linkage_hierarchical_clustering(data)"
   ],
   "metadata": {
    "collapsed": false,
    "ExecuteTime": {
     "end_time": "2023-12-08T20:15:06.419224Z",
     "start_time": "2023-12-08T20:15:06.384362Z"
    }
   },
   "id": "5afcb0584d2411e2"
  },
  {
   "cell_type": "raw",
   "source": [
    "A   D   B   C   \n",
    "|   |   |   |   \n",
    "-----   |   |\n",
    "  |     |   |\n",
    "  -------   |\n",
    "     |      |\n",
    "     --------\n",
    "        ||\n",
    "        ||\n",
    "        ||"
   ],
   "metadata": {
    "collapsed": false
   },
   "id": "925a7d817431227"
  },
  {
   "cell_type": "raw",
   "source": [
    "b) How do partitioning methods differ from hierarchical methods? (1 P.)"
   ],
   "metadata": {
    "collapsed": false
   },
   "id": "ad83f10284f3c4d7"
  },
  {
   "cell_type": "raw",
   "source": [
    "Partitioning methods \n",
    "- start with an initial partitioning and improve it incrementally\n",
    "- specify number of clusters needed\n",
    "- usually much faster\n",
    "- best when clusters are spherical and well-separated\n",
    "\n",
    "Hierarchical methods\n",
    "- build a hierarchy of clusters\n",
    "- algorithmic:\n",
    "    - either each data point and merge the two best per iteration\n",
    "    - or all data points in cluster and split worst matches\n",
    "- no 'number of clusters'\n",
    "    - you can just choose any layer of the tree"
   ],
   "metadata": {
    "collapsed": false
   },
   "id": "5de07c7b94e65f18"
  },
  {
   "cell_type": "raw",
   "source": [
    "c) Explain hard clustering and soft clustering. (1 P.)"
   ],
   "metadata": {
    "collapsed": false
   },
   "id": "b2d17331214844dc"
  },
  {
   "cell_type": "raw",
   "source": [
    "Hard clustering\n",
    "- means having a fixed cluster each data point belongs to\n",
    "- best for clusters that have clear distinct separations\n",
    "\n",
    "Soft Clustering\n",
    "- the opposite where each data point can belong to multiple clusters, each to a certain percentage\n",
    "- best for clusters, where overlap is natural\n",
    "\n",
    "HC example: everything we know so far 🙃: K-Means, HC etc.\n",
    "SC example: GMM"
   ],
   "metadata": {
    "collapsed": false
   },
   "id": "d580058ea8fe8ce0"
  },
  {
   "cell_type": "raw",
   "source": [
    "d) Briefly describe when density-based clustering techniques are used and the advantages and disadvantages. (1 P.)"
   ],
   "metadata": {
    "collapsed": false
   },
   "id": "d572eea415c3fb00"
  },
  {
   "cell_type": "raw",
   "source": [
    "Used for:\n",
    "- data sets with a lot of noise/outliers\n",
    "- complex (esp. not circular) shapes\n",
    "\n",
    "Advantages:\n",
    "- as said very good with wierd shapes/noise etc.\n",
    "- no need to specify cluster count\n",
    "\n",
    "Disadvantage:\n",
    "- Choosing right parameters is challenging\n",
    "- Varying cluster densities would cause problems"
   ],
   "metadata": {
    "collapsed": false
   },
   "id": "adf158ef5a378956"
  }
 ],
 "metadata": {
  "kernelspec": {
   "display_name": "Python 3",
   "language": "python",
   "name": "python3"
  },
  "language_info": {
   "codemirror_mode": {
    "name": "ipython",
    "version": 2
   },
   "file_extension": ".py",
   "mimetype": "text/x-python",
   "name": "python",
   "nbconvert_exporter": "python",
   "pygments_lexer": "ipython2",
   "version": "2.7.6"
  }
 },
 "nbformat": 4,
 "nbformat_minor": 5
}
