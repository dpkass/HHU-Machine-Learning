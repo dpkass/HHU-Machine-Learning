{
 "cells": [
  {
   "cell_type": "markdown",
   "source": [
    "Task 1. K-means (5 points)\n",
    "\n",
    "The following data points are given in Euclidean space:\n",
    "\n",
    "| Point | X    | Y    |\n",
    "|-------|------|------|\n",
    "| A     | 1.2  | 0.8  |\n",
    "| B     | -0.6 | -1.3 |\n",
    "| C     | -0.8 | 0.2  |\n",
    "| D     | 0.2  | 0.3  |\n",
    "\n",
    "Point A and C are initially assigned to cluster centroid C1, points B and D are initially assigned to cluster centroid C2."
   ],
   "metadata": {
    "collapsed": false
   },
   "id": "d9cca53c61bedb76"
  },
  {
   "cell_type": "code",
   "execution_count": 264,
   "outputs": [],
   "source": [
    "import numpy as np"
   ],
   "metadata": {
    "collapsed": false,
    "ExecuteTime": {
     "end_time": "2023-12-08T10:37:41.614616Z",
     "start_time": "2023-12-08T10:37:41.580921Z"
    }
   },
   "id": "fd51ec3671c3c843"
  },
  {
   "cell_type": "code",
   "execution_count": 265,
   "outputs": [
    {
     "data": {
      "text/plain": "array([[ 1.2,  0.8],\n       [-0.6, -1.3],\n       [-0.8,  0.2],\n       [ 0.2,  0.3]])"
     },
     "execution_count": 265,
     "metadata": {},
     "output_type": "execute_result"
    }
   ],
   "source": [
    "data = np.array([[1.2, .8],\n",
    "                 [-.6, -1.3],\n",
    "                 [-.8, .2],\n",
    "                 [.2, .3]])\n",
    "\n",
    "data"
   ],
   "metadata": {
    "collapsed": false,
    "ExecuteTime": {
     "end_time": "2023-12-08T10:37:41.615239Z",
     "start_time": "2023-12-08T10:37:41.587077Z"
    }
   },
   "id": "d30dac3bad851be1"
  },
  {
   "cell_type": "code",
   "execution_count": 266,
   "outputs": [],
   "source": [
    "# Initial conditions\n",
    "initial_assigned_labels = np.array(['C1', 'C2', 'C1', 'C2'])"
   ],
   "metadata": {
    "collapsed": false,
    "ExecuteTime": {
     "end_time": "2023-12-08T10:37:41.615886Z",
     "start_time": "2023-12-08T10:37:41.591364Z"
    }
   },
   "id": "14ac880fc50b0b49"
  },
  {
   "cell_type": "raw",
   "source": [
    "a) Determine the minimum-distance partition using the K-Means method and the Euclidean distance. Initial by first determining the respective cluster centroids. (2.5 P.)"
   ],
   "metadata": {
    "collapsed": false
   },
   "id": "370ea7a308d803e6"
  },
  {
   "cell_type": "code",
   "execution_count": 267,
   "outputs": [],
   "source": [
    "def calc_centroids(data, assigned_labels):\n",
    "    labels = set(assigned_labels)\n",
    "\n",
    "    centroids = dict()\n",
    "    for label in labels:\n",
    "        cluster = data[assigned_labels == label]\n",
    "        centroids[label] = np.mean(cluster, axis=0)\n",
    "\n",
    "    return centroids"
   ],
   "metadata": {
    "collapsed": false,
    "ExecuteTime": {
     "end_time": "2023-12-08T10:37:41.631960Z",
     "start_time": "2023-12-08T10:37:41.595286Z"
    }
   },
   "id": "9507db4565598881"
  },
  {
   "cell_type": "code",
   "execution_count": 268,
   "outputs": [
    {
     "data": {
      "text/plain": "{'C1': array([0.2, 0.5]), 'C2': array([-0.2, -0.5])}"
     },
     "execution_count": 268,
     "metadata": {},
     "output_type": "execute_result"
    }
   ],
   "source": [
    "initial_centroids = calc_centroids(data, initial_assigned_labels)\n",
    "\n",
    "initial_centroids"
   ],
   "metadata": {
    "collapsed": false,
    "ExecuteTime": {
     "end_time": "2023-12-08T10:37:41.633626Z",
     "start_time": "2023-12-08T10:37:41.600666Z"
    }
   },
   "id": "b315675371852be6"
  },
  {
   "cell_type": "code",
   "execution_count": 269,
   "outputs": [],
   "source": [
    "def d(p1, p2): return np.linalg.norm(p1 - p2)"
   ],
   "metadata": {
    "collapsed": false,
    "ExecuteTime": {
     "end_time": "2023-12-08T10:37:41.633782Z",
     "start_time": "2023-12-08T10:37:41.603985Z"
    }
   },
   "id": "444884e0d64004d5"
  },
  {
   "cell_type": "code",
   "execution_count": 270,
   "outputs": [],
   "source": [
    "def kmeans_step(data, assigned_labels):\n",
    "    assigned_labels = assigned_labels.copy()\n",
    "    centroids = calc_centroids(data, assigned_labels)\n",
    "\n",
    "    for i, point in enumerate(data):\n",
    "        closest = assigned_labels[i]\n",
    "        closest_d = d(point, centroids[closest])\n",
    "\n",
    "        for centroid_label, centroid_point in centroids.items():\n",
    "            dist = d(point, centroid_point)\n",
    "            if dist < closest_d: closest, closest_d = centroid_label, dist\n",
    "\n",
    "        assigned_labels[i] = closest\n",
    "\n",
    "    return assigned_labels"
   ],
   "metadata": {
    "collapsed": false,
    "ExecuteTime": {
     "end_time": "2023-12-08T10:37:41.633920Z",
     "start_time": "2023-12-08T10:37:41.607885Z"
    }
   },
   "id": "32e184dd4766c55c"
  },
  {
   "cell_type": "code",
   "execution_count": 271,
   "outputs": [],
   "source": [
    "def kmeans(data, initial_assigned_labels):\n",
    "    prev_assigned_labels = kmeans_step(data, initial_assigned_labels)\n",
    "\n",
    "    while True:\n",
    "        assigned_labels = kmeans_step(data, prev_assigned_labels)\n",
    "\n",
    "        # should be fine, since only 4 points (usually we go by centroids and not equality)\n",
    "        if np.array_equal(assigned_labels, prev_assigned_labels): break\n",
    "        else: prev_assigned_labels = assigned_labels\n",
    "\n",
    "    return assigned_labels"
   ],
   "metadata": {
    "collapsed": false,
    "ExecuteTime": {
     "end_time": "2023-12-08T10:37:41.634144Z",
     "start_time": "2023-12-08T10:37:41.611322Z"
    }
   },
   "id": "44c9ea15ed6edd03"
  },
  {
   "cell_type": "code",
   "execution_count": 272,
   "outputs": [
    {
     "data": {
      "text/plain": "array(['C1', 'C2', 'C2', 'C1'], dtype='<U2')"
     },
     "execution_count": 272,
     "metadata": {},
     "output_type": "execute_result"
    }
   ],
   "source": [
    "kmeans_labels = kmeans(data, initial_assigned_labels)\n",
    "\n",
    "kmeans_labels"
   ],
   "metadata": {
    "collapsed": false,
    "ExecuteTime": {
     "end_time": "2023-12-08T10:37:41.635151Z",
     "start_time": "2023-12-08T10:37:41.614786Z"
    }
   },
   "id": "3dbdf2c578e9bc6e"
  },
  {
   "cell_type": "raw",
   "source": [
    "Am Ende ist die Zuweisung: A, D --> C1; B, C --> C2"
   ],
   "metadata": {
    "collapsed": false
   },
   "id": "4e3bdaf4ba5469ac"
  },
  {
   "cell_type": "raw",
   "source": [
    "b) Calculate the Silhouette Coefficients in Python and visualize them. (1.5 P.)"
   ],
   "metadata": {
    "collapsed": false
   },
   "id": "81457bc57aa7893e"
  },
  {
   "cell_type": "code",
   "execution_count": 273,
   "outputs": [],
   "source": [
    "def silhouette(data, assigned_labels):\n",
    "    \"\"\"only for k = 2\"\"\"\n",
    "    _silhouette = []\n",
    "\n",
    "    for point, label in zip(data, assigned_labels):\n",
    "        cum_dist_in_cluster, point_in_cluster_count = 0, -1\n",
    "        # since we count the point itself as well\n",
    "        cum_dist_out_cluster, point_out_cluster_count = 0, 0\n",
    "        for other_point, other_label in zip(data, assigned_labels):\n",
    "            if label == other_label:\n",
    "                cum_dist_in_cluster += d(point, other_point)\n",
    "                point_in_cluster_count += 1\n",
    "            else:\n",
    "                cum_dist_out_cluster += d(point, other_point)\n",
    "                point_out_cluster_count += 1\n",
    "\n",
    "        avg_dist_out_cluster = cum_dist_out_cluster / point_out_cluster_count if point_out_cluster_count > 0 else 0\n",
    "        avg_dist_in_cluster = cum_dist_in_cluster / point_in_cluster_count if point_in_cluster_count > 0 else 0\n",
    "        sil = (avg_dist_out_cluster - avg_dist_in_cluster) / max(avg_dist_out_cluster, avg_dist_in_cluster)\n",
    "\n",
    "        _silhouette.append(sil)\n",
    "\n",
    "    return _silhouette"
   ],
   "metadata": {
    "collapsed": false,
    "ExecuteTime": {
     "end_time": "2023-12-08T10:37:41.635231Z",
     "start_time": "2023-12-08T10:37:41.619771Z"
    }
   },
   "id": "1779460accaff0bd"
  },
  {
   "cell_type": "code",
   "execution_count": 274,
   "outputs": [
    {
     "data": {
      "text/plain": "([-0.06997526302916779,\n  0.163918335734697,\n  -0.39698557819998675,\n  -0.4065974368219471],\n [0.5393278339042583,\n  0.3355133343754012,\n  0.021499716537346912,\n  0.19964406640384613])"
     },
     "execution_count": 274,
     "metadata": {},
     "output_type": "execute_result"
    }
   ],
   "source": [
    "silhouette(data, initial_assigned_labels), silhouette(data, kmeans_labels)"
   ],
   "metadata": {
    "collapsed": false,
    "ExecuteTime": {
     "end_time": "2023-12-08T10:37:41.635354Z",
     "start_time": "2023-12-08T10:37:41.622975Z"
    }
   },
   "id": "1fdfcd8009ca94c2"
  },
  {
   "cell_type": "raw",
   "source": [
    "c) Briefly describe what silhouettes are calculated for, explain the meaning of negative values, and indicate what the silhouette coefficient represents. (1 P.)"
   ],
   "metadata": {
    "collapsed": false
   },
   "id": "365b71c9c897e9e8"
  },
  {
   "cell_type": "raw",
   "source": [
    "1. Calculated to assess clustering quality\n",
    "Kmeans is a unsuperised algorithm, so we can't always check the result using data.\n",
    "Furthermore, we could compare different clusterings or different ks, using CV.\n",
    "\n",
    "2. Negative values usually indicate, that a point was put into the wrong cluster\n",
    "\n",
    "3. SC is an overall measure for cluster quality.\n",
    "High - Good clustering, clusters can be clearly differentiated from each other\n",
    "Around 0 - Clusters can't be clearly differentiated from each other.\n",
    "Low - Bad clustering, points are closer to other clusters than their own "
   ],
   "metadata": {
    "collapsed": false
   },
   "id": "15f103cbfb0ce35f"
  }
 ],
 "metadata": {
  "kernelspec": {
   "display_name": "Python 3",
   "language": "python",
   "name": "python3"
  },
  "language_info": {
   "codemirror_mode": {
    "name": "ipython",
    "version": 2
   },
   "file_extension": ".py",
   "mimetype": "text/x-python",
   "name": "python",
   "nbconvert_exporter": "python",
   "pygments_lexer": "ipython2",
   "version": "2.7.6"
  }
 },
 "nbformat": 4,
 "nbformat_minor": 5
}
