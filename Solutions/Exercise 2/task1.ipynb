{
 "cells": [
  {
   "cell_type": "raw",
   "source": [
    "Key figures\n",
    "Calculate the relevant statistics using Python for the values 4, 2, 5, 6, 1, 6, 8, 3, 4, 9 and answer the questions."
   ],
   "metadata": {
    "collapsed": false
   },
   "id": "752e356828120655"
  },
  {
   "cell_type": "code",
   "execution_count": 21,
   "outputs": [],
   "source": [
    "import numpy as np\n",
    "import scipy.stats as stats"
   ],
   "metadata": {
    "collapsed": false,
    "ExecuteTime": {
     "end_time": "2023-12-04T09:46:09.424212Z",
     "start_time": "2023-12-04T09:46:09.417307Z"
    }
   },
   "id": "76d2e19bcaf7458b"
  },
  {
   "cell_type": "code",
   "execution_count": 22,
   "outputs": [],
   "source": [
    "a = [4, 2, 5, 6, 1, 6, 8, 3, 4, 9]"
   ],
   "metadata": {
    "collapsed": false,
    "ExecuteTime": {
     "end_time": "2023-12-04T09:46:09.425681Z",
     "start_time": "2023-12-04T09:46:09.421541Z"
    }
   },
   "id": "c942f64a980ba7b1"
  },
  {
   "cell_type": "raw",
   "source": [
    "a) What is the standard deviation?"
   ],
   "metadata": {
    "collapsed": false
   },
   "id": "bc835859dbdfeaec"
  },
  {
   "cell_type": "code",
   "execution_count": 23,
   "outputs": [
    {
     "data": {
      "text/plain": "33.7702495114578"
     },
     "execution_count": 23,
     "metadata": {},
     "output_type": "execute_result"
    }
   ],
   "source": [
    "np.std(a)"
   ],
   "metadata": {
    "collapsed": false,
    "ExecuteTime": {
     "end_time": "2023-12-04T09:46:09.442271Z",
     "start_time": "2023-12-04T09:46:09.429059Z"
    }
   },
   "id": "efb1953073578586"
  },
  {
   "cell_type": "raw",
   "source": [
    "b) Are the data skewed to the right or left?"
   ],
   "metadata": {
    "collapsed": false
   },
   "id": "49afca5f9753225"
  },
  {
   "cell_type": "code",
   "execution_count": 24,
   "outputs": [
    {
     "name": "stdout",
     "output_type": "stream",
     "text": [
      "right with 2.822187603246433\n"
     ]
    }
   ],
   "source": [
    "skewness = stats.skew(a)\n",
    "\n",
    "if skewness > 0: s = 'right'\n",
    "elif skewness < 0: s = 'left'\n",
    "else: s = 'symmetric'\n",
    "\n",
    "print(s, 'with', skewness)"
   ],
   "metadata": {
    "collapsed": false,
    "ExecuteTime": {
     "end_time": "2023-12-04T09:46:09.442613Z",
     "start_time": "2023-12-04T09:46:09.435891Z"
    }
   },
   "id": "3a8f439f7a90d876"
  },
  {
   "cell_type": "raw",
   "source": [
    "c) What are the values of the Quartiles?"
   ],
   "metadata": {
    "collapsed": false
   },
   "id": "59d8a1b80dede9cb"
  },
  {
   "cell_type": "code",
   "execution_count": 25,
   "outputs": [
    {
     "data": {
      "text/plain": "(3.5, 5.0, 7.0)"
     },
     "execution_count": 25,
     "metadata": {},
     "output_type": "execute_result"
    }
   ],
   "source": [
    "Q1 = np.quantile(a, .25)\n",
    "Q2 = np.quantile(a, .50)\n",
    "Q3 = np.quantile(a, .75)\n",
    "\n",
    "Q1, Q2, Q3"
   ],
   "metadata": {
    "collapsed": false,
    "ExecuteTime": {
     "end_time": "2023-12-04T09:46:09.448087Z",
     "start_time": "2023-12-04T09:46:09.442554Z"
    }
   },
   "id": "5173d53209ec05ba"
  },
  {
   "cell_type": "raw",
   "source": [
    "d) Are there any outliers? If yes, which ones?"
   ],
   "metadata": {
    "collapsed": false
   },
   "id": "d6980f5efd7665a3"
  },
  {
   "cell_type": "code",
   "execution_count": 26,
   "outputs": [
    {
     "data": {
      "text/plain": "[122]"
     },
     "execution_count": 26,
     "metadata": {},
     "output_type": "execute_result"
    }
   ],
   "source": [
    "IQR = Q3 - Q1\n",
    "lower, upper = Q1 - 1.5 * IQR, Q3 + 1.5 * IQR\n",
    "\n",
    "[x for x in a if x < lower or x > upper]"
   ],
   "metadata": {
    "collapsed": false,
    "ExecuteTime": {
     "end_time": "2023-12-04T09:46:09.452624Z",
     "start_time": "2023-12-04T09:46:09.447116Z"
    }
   },
   "id": "d59b9577e267b142"
  }
 ],
 "metadata": {
  "kernelspec": {
   "display_name": "Python 3",
   "language": "python",
   "name": "python3"
  },
  "language_info": {
   "codemirror_mode": {
    "name": "ipython",
    "version": 2
   },
   "file_extension": ".py",
   "mimetype": "text/x-python",
   "name": "python",
   "nbconvert_exporter": "python",
   "pygments_lexer": "ipython2",
   "version": "2.7.6"
  }
 },
 "nbformat": 4,
 "nbformat_minor": 5
}
